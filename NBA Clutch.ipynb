{
 "cells": [
  {
   "cell_type": "markdown",
   "metadata": {},
   "source": [
    "**By: Nathan Ho**\n",
    "\n",
    "# Basketball 'Clutch' - Kobe Bryant vs. Michael Jordan\n",
    "\n",
    "## Introduction: What is 'Clutch'?\n",
    "In sports, a 'clutch' play is typically a play which occurs in the key moment of a game that puts the outcome of the game in question. This could be a hail-mary pass in football, an 11th inning double play in baseball, or a save on a penalty kick in soccer. \n",
    "\n",
    "However, in basketball, where the game often revolves around the selective few superstars in the league, 'clutch'ness describes more the player than the play. A 'clutch' player is a player who thrives in high pressure situations and becomes a more versatile and efficient player when the game is on the line. 'Clutch' plays are explained as the handiwork of 'clutch' players. \n",
    "\n",
    "It's easy for most basketball fans and sports commentator to talk about 'clutch' qualitatively. Conversations about the strength of a player's mentality can get very opionated as it is unquantifiable. In this project, we will explore the quantitative side of 'clutch', and will be analyzing the career statistics of two widely alleged 'clutch' players: Kobe Bryant and Michael Jordan. [Comparisons](http://bleacherreport.com/articles/311555-why-kobejordan-debate-is-closer-than-it-seems) have often been drawn between the two players, and it will be interesting to take a statistical approach in evaluating them.   \n",
    "\n",
    "We will be specifically looking at:\n",
    "1. Distributions of points scored, assists, rebounds, and steals in Regular and Post Season \n",
    "2. Linear regressions of the two players' production efficiency, measured by the Points Per Minute(PPM) metric\n",
    "3. Comparisons between two players to evaluate the effects of 'clutch' on each of their careers\n",
    "\n",
    "\n",
    "We will begin by importing the relevant libraries:\n"
   ]
  },
  {
   "cell_type": "code",
   "execution_count": 57,
   "metadata": {
    "collapsed": false
   },
   "outputs": [
    {
     "name": "stdout",
     "output_type": "stream",
     "text": [
      "Today is 2016-12-20\n",
      "What version of Python are we running? \n",
      "3.5.2 |Anaconda custom (x86_64)| (default, Jul  2 2016, 17:52:12) \n",
      "[GCC 4.2.1 Compatible Apple LLVM 4.2 (clang-425.0.28)]\n"
     ]
    }
   ],
   "source": [
    "#importing data organization and graphics packages\n",
    "import pandas as pd                  \n",
    "import matplotlib.pyplot as plt       \n",
    "%matplotlib inline \n",
    "import numpy as np\n",
    "import scipy.stats as stats\n",
    "import datetime as dt\n",
    "import sys\n",
    "import seaborn as sb\n",
    "import warnings\n",
    "print('Today is', dt.date.today())\n",
    "print('What version of Python are we running? \\n', sys.version, sep='') \n",
    "warnings.filterwarnings('ignore')"
   ]
  },
  {
   "cell_type": "markdown",
   "metadata": {},
   "source": [
    "### NBA Python Module\n",
    "\n",
    "The data we will be using for this project will be coming from Savvastj's [`nbashots`](https://github.com/savvastj/nbashots/blob/master/tutorial/Tutorial.ipynb) module. This module accesses the stats.nba.com API through specialized methods.\n",
    "\n",
    "To install, please run on your Terminal/Command Prompt:\n",
    "\n",
    "`pip install nbashots` \n",
    "\n",
    "We will be importing this package for the project:"
   ]
  },
  {
   "cell_type": "code",
   "execution_count": 3,
   "metadata": {
    "collapsed": false
   },
   "outputs": [],
   "source": [
    "#NBA module\n",
    "import nbashots as nba"
   ]
  },
  {
   "cell_type": "markdown",
   "metadata": {},
   "source": [
    "The module organizes player statistics by Player IDs. Here we will take a brief look at Kobe's ID and game statistics from the most recent season, 2015-16:"
   ]
  },
  {
   "cell_type": "code",
   "execution_count": 4,
   "metadata": {
    "collapsed": false
   },
   "outputs": [
    {
     "data": {
      "text/plain": [
       "977"
      ]
     },
     "execution_count": 4,
     "metadata": {},
     "output_type": "execute_result"
    }
   ],
   "source": [
    "kobe_id = nba.get_player_id(\"Bryant, Kobe\")[0]\n",
    "kobe_id"
   ]
  },
  {
   "cell_type": "code",
   "execution_count": 5,
   "metadata": {
    "collapsed": false,
    "scrolled": true
   },
   "outputs": [
    {
     "data": {
      "text/html": [
       "<div>\n",
       "<table border=\"1\" class=\"dataframe\">\n",
       "  <thead>\n",
       "    <tr style=\"text-align: right;\">\n",
       "      <th></th>\n",
       "      <th>SEASON_ID</th>\n",
       "      <th>Player_ID</th>\n",
       "      <th>Game_ID</th>\n",
       "      <th>GAME_DATE</th>\n",
       "      <th>MATCHUP</th>\n",
       "      <th>WL</th>\n",
       "      <th>MIN</th>\n",
       "      <th>FGM</th>\n",
       "      <th>FGA</th>\n",
       "      <th>FG_PCT</th>\n",
       "      <th>...</th>\n",
       "      <th>DREB</th>\n",
       "      <th>REB</th>\n",
       "      <th>AST</th>\n",
       "      <th>STL</th>\n",
       "      <th>BLK</th>\n",
       "      <th>TOV</th>\n",
       "      <th>PF</th>\n",
       "      <th>PTS</th>\n",
       "      <th>PLUS_MINUS</th>\n",
       "      <th>VIDEO_AVAILABLE</th>\n",
       "    </tr>\n",
       "  </thead>\n",
       "  <tbody>\n",
       "    <tr>\n",
       "      <th>0</th>\n",
       "      <td>22015</td>\n",
       "      <td>977</td>\n",
       "      <td>0021501228</td>\n",
       "      <td>2016-04-13</td>\n",
       "      <td>LAL vs. UTA</td>\n",
       "      <td>W</td>\n",
       "      <td>42</td>\n",
       "      <td>22</td>\n",
       "      <td>50</td>\n",
       "      <td>0.440</td>\n",
       "      <td>...</td>\n",
       "      <td>4</td>\n",
       "      <td>4</td>\n",
       "      <td>4</td>\n",
       "      <td>1</td>\n",
       "      <td>1</td>\n",
       "      <td>2</td>\n",
       "      <td>1</td>\n",
       "      <td>60</td>\n",
       "      <td>7</td>\n",
       "      <td>1</td>\n",
       "    </tr>\n",
       "    <tr>\n",
       "      <th>1</th>\n",
       "      <td>22015</td>\n",
       "      <td>977</td>\n",
       "      <td>0021501209</td>\n",
       "      <td>2016-04-11</td>\n",
       "      <td>LAL @ OKC</td>\n",
       "      <td>L</td>\n",
       "      <td>19</td>\n",
       "      <td>4</td>\n",
       "      <td>12</td>\n",
       "      <td>0.333</td>\n",
       "      <td>...</td>\n",
       "      <td>1</td>\n",
       "      <td>1</td>\n",
       "      <td>0</td>\n",
       "      <td>1</td>\n",
       "      <td>0</td>\n",
       "      <td>2</td>\n",
       "      <td>2</td>\n",
       "      <td>13</td>\n",
       "      <td>-24</td>\n",
       "      <td>1</td>\n",
       "    </tr>\n",
       "    <tr>\n",
       "      <th>2</th>\n",
       "      <td>22015</td>\n",
       "      <td>977</td>\n",
       "      <td>0021501195</td>\n",
       "      <td>2016-04-10</td>\n",
       "      <td>LAL @ HOU</td>\n",
       "      <td>L</td>\n",
       "      <td>27</td>\n",
       "      <td>10</td>\n",
       "      <td>22</td>\n",
       "      <td>0.455</td>\n",
       "      <td>...</td>\n",
       "      <td>2</td>\n",
       "      <td>2</td>\n",
       "      <td>1</td>\n",
       "      <td>2</td>\n",
       "      <td>0</td>\n",
       "      <td>4</td>\n",
       "      <td>1</td>\n",
       "      <td>35</td>\n",
       "      <td>-10</td>\n",
       "      <td>1</td>\n",
       "    </tr>\n",
       "    <tr>\n",
       "      <th>3</th>\n",
       "      <td>22015</td>\n",
       "      <td>977</td>\n",
       "      <td>0021501184</td>\n",
       "      <td>2016-04-08</td>\n",
       "      <td>LAL @ NOP</td>\n",
       "      <td>L</td>\n",
       "      <td>22</td>\n",
       "      <td>4</td>\n",
       "      <td>15</td>\n",
       "      <td>0.267</td>\n",
       "      <td>...</td>\n",
       "      <td>3</td>\n",
       "      <td>3</td>\n",
       "      <td>4</td>\n",
       "      <td>1</td>\n",
       "      <td>0</td>\n",
       "      <td>2</td>\n",
       "      <td>0</td>\n",
       "      <td>14</td>\n",
       "      <td>-16</td>\n",
       "      <td>1</td>\n",
       "    </tr>\n",
       "    <tr>\n",
       "      <th>4</th>\n",
       "      <td>22015</td>\n",
       "      <td>977</td>\n",
       "      <td>0021501172</td>\n",
       "      <td>2016-04-06</td>\n",
       "      <td>LAL vs. LAC</td>\n",
       "      <td>L</td>\n",
       "      <td>28</td>\n",
       "      <td>6</td>\n",
       "      <td>19</td>\n",
       "      <td>0.316</td>\n",
       "      <td>...</td>\n",
       "      <td>3</td>\n",
       "      <td>3</td>\n",
       "      <td>1</td>\n",
       "      <td>1</td>\n",
       "      <td>0</td>\n",
       "      <td>1</td>\n",
       "      <td>1</td>\n",
       "      <td>17</td>\n",
       "      <td>-15</td>\n",
       "      <td>1</td>\n",
       "    </tr>\n",
       "  </tbody>\n",
       "</table>\n",
       "<p>5 rows × 27 columns</p>\n",
       "</div>"
      ],
      "text/plain": [
       "  SEASON_ID  Player_ID     Game_ID  GAME_DATE      MATCHUP WL  MIN  FGM  FGA  \\\n",
       "0     22015        977  0021501228 2016-04-13  LAL vs. UTA  W   42   22   50   \n",
       "1     22015        977  0021501209 2016-04-11    LAL @ OKC  L   19    4   12   \n",
       "2     22015        977  0021501195 2016-04-10    LAL @ HOU  L   27   10   22   \n",
       "3     22015        977  0021501184 2016-04-08    LAL @ NOP  L   22    4   15   \n",
       "4     22015        977  0021501172 2016-04-06  LAL vs. LAC  L   28    6   19   \n",
       "\n",
       "   FG_PCT       ...         DREB  REB  AST  STL  BLK  TOV  PF  PTS  \\\n",
       "0   0.440       ...            4    4    4    1    1    2   1   60   \n",
       "1   0.333       ...            1    1    0    1    0    2   2   13   \n",
       "2   0.455       ...            2    2    1    2    0    4   1   35   \n",
       "3   0.267       ...            3    3    4    1    0    2   0   14   \n",
       "4   0.316       ...            3    3    1    1    0    1   1   17   \n",
       "\n",
       "   PLUS_MINUS  VIDEO_AVAILABLE  \n",
       "0           7                1  \n",
       "1         -24                1  \n",
       "2         -10                1  \n",
       "3         -16                1  \n",
       "4         -15                1  \n",
       "\n",
       "[5 rows x 27 columns]"
      ]
     },
     "execution_count": 5,
     "metadata": {},
     "output_type": "execute_result"
    }
   ],
   "source": [
    "kobe_gamelogs = nba.PlayerLog(kobe_id)\n",
    "kobe_df = kobe_gamelogs.get_game_logs()\n",
    "kobe_df.head()"
   ]
  },
  {
   "cell_type": "code",
   "execution_count": 6,
   "metadata": {
    "collapsed": false,
    "scrolled": false
   },
   "outputs": [
    {
     "name": "stdout",
     "output_type": "stream",
     "text": [
      "SEASON_ID                  object\n",
      "Player_ID                   int64\n",
      "Game_ID                    object\n",
      "GAME_DATE          datetime64[ns]\n",
      "MATCHUP                    object\n",
      "WL                         object\n",
      "MIN                         int64\n",
      "FGM                         int64\n",
      "FGA                         int64\n",
      "FG_PCT                    float64\n",
      "FG3M                        int64\n",
      "FG3A                        int64\n",
      "FG3_PCT                   float64\n",
      "FTM                         int64\n",
      "FTA                         int64\n",
      "FT_PCT                    float64\n",
      "OREB                        int64\n",
      "DREB                        int64\n",
      "REB                         int64\n",
      "AST                         int64\n",
      "STL                         int64\n",
      "BLK                         int64\n",
      "TOV                         int64\n",
      "PF                          int64\n",
      "PTS                         int64\n",
      "PLUS_MINUS                  int64\n",
      "VIDEO_AVAILABLE             int64\n",
      "dtype: object\n",
      "\n",
      "(66, 27)\n"
     ]
    }
   ],
   "source": [
    "print(kobe_df.dtypes)\n",
    "print()\n",
    "print(kobe_df.shape)"
   ]
  },
  {
   "cell_type": "markdown",
   "metadata": {},
   "source": [
    "Thankfully, the data returned is mostly in `int` and `float` form, making it easier to analyze the data. The dataframe shape shows that Kobe played 66 games during the 2015-2016 regular season.\n",
    "\n",
    "Now we take a brief look at Jordan's ID and statistics:"
   ]
  },
  {
   "cell_type": "code",
   "execution_count": 7,
   "metadata": {
    "collapsed": false
   },
   "outputs": [
    {
     "data": {
      "text/plain": [
       "893"
      ]
     },
     "execution_count": 7,
     "metadata": {},
     "output_type": "execute_result"
    }
   ],
   "source": [
    "jordan_id = nba.get_player_id(\"Jordan, Michael\")[0]\n",
    "jordan_id"
   ]
  },
  {
   "cell_type": "code",
   "execution_count": 8,
   "metadata": {
    "collapsed": false
   },
   "outputs": [
    {
     "data": {
      "text/html": [
       "<div>\n",
       "<table border=\"1\" class=\"dataframe\">\n",
       "  <thead>\n",
       "    <tr style=\"text-align: right;\">\n",
       "      <th></th>\n",
       "      <th>SEASON_ID</th>\n",
       "      <th>Player_ID</th>\n",
       "      <th>Game_ID</th>\n",
       "      <th>GAME_DATE</th>\n",
       "      <th>MATCHUP</th>\n",
       "      <th>WL</th>\n",
       "      <th>MIN</th>\n",
       "      <th>FGM</th>\n",
       "      <th>FGA</th>\n",
       "      <th>FG_PCT</th>\n",
       "      <th>...</th>\n",
       "      <th>DREB</th>\n",
       "      <th>REB</th>\n",
       "      <th>AST</th>\n",
       "      <th>STL</th>\n",
       "      <th>BLK</th>\n",
       "      <th>TOV</th>\n",
       "      <th>PF</th>\n",
       "      <th>PTS</th>\n",
       "      <th>PLUS_MINUS</th>\n",
       "      <th>VIDEO_AVAILABLE</th>\n",
       "    </tr>\n",
       "  </thead>\n",
       "  <tbody>\n",
       "  </tbody>\n",
       "</table>\n",
       "<p>0 rows × 27 columns</p>\n",
       "</div>"
      ],
      "text/plain": [
       "Empty DataFrame\n",
       "Columns: [SEASON_ID, Player_ID, Game_ID, GAME_DATE, MATCHUP, WL, MIN, FGM, FGA, FG_PCT, FG3M, FG3A, FG3_PCT, FTM, FTA, FT_PCT, OREB, DREB, REB, AST, STL, BLK, TOV, PF, PTS, PLUS_MINUS, VIDEO_AVAILABLE]\n",
       "Index: []\n",
       "\n",
       "[0 rows x 27 columns]"
      ]
     },
     "execution_count": 8,
     "metadata": {},
     "output_type": "execute_result"
    }
   ],
   "source": [
    "jordan_gamelogs = nba.PlayerLog(jordan_id)\n",
    "jordan_df = jordan_gamelogs.get_game_logs()\n",
    "jordan_df"
   ]
  },
  {
   "cell_type": "markdown",
   "metadata": {
    "collapsed": true
   },
   "source": [
    "The lack of data is due to the `PlayerLog` method being defaulted to the 2015-16 season. Michael Jordan, who retired in 2003, obviously did not play then.   \n",
    "\n",
    "According to the module creator, Savvastj, the `PlayerLog` method has four parameters:\n",
    "* `player_id`\n",
    "* `league_id`, \n",
    "    * default \"`'00'`\"\n",
    "* `Season` \n",
    "    * default \"`2015-16`\" \n",
    "* `Season_Type` \n",
    "    * default \"`Regular Season`\"\n",
    "    \n",
    "This can be corrected by changing the `Season` parameter to the 1995-96 season instead. The 1995-96 is a very famous season for the Chicago Bulls, when Jordan's Bulls earned 72 wins and 10 losses, becoming the [only team](https://en.wikipedia.org/wiki/1995–96_Chicago_Bulls_season) in NBA history to win over 70 games and the NBA title in the same season.  "
   ]
  },
  {
   "cell_type": "code",
   "execution_count": 9,
   "metadata": {
    "collapsed": false
   },
   "outputs": [
    {
     "data": {
      "text/html": [
       "<div>\n",
       "<table border=\"1\" class=\"dataframe\">\n",
       "  <thead>\n",
       "    <tr style=\"text-align: right;\">\n",
       "      <th></th>\n",
       "      <th>SEASON_ID</th>\n",
       "      <th>Player_ID</th>\n",
       "      <th>Game_ID</th>\n",
       "      <th>GAME_DATE</th>\n",
       "      <th>MATCHUP</th>\n",
       "      <th>WL</th>\n",
       "      <th>MIN</th>\n",
       "      <th>FGM</th>\n",
       "      <th>FGA</th>\n",
       "      <th>FG_PCT</th>\n",
       "      <th>...</th>\n",
       "      <th>DREB</th>\n",
       "      <th>REB</th>\n",
       "      <th>AST</th>\n",
       "      <th>STL</th>\n",
       "      <th>BLK</th>\n",
       "      <th>TOV</th>\n",
       "      <th>PF</th>\n",
       "      <th>PTS</th>\n",
       "      <th>PLUS_MINUS</th>\n",
       "      <th>VIDEO_AVAILABLE</th>\n",
       "    </tr>\n",
       "  </thead>\n",
       "  <tbody>\n",
       "    <tr>\n",
       "      <th>0</th>\n",
       "      <td>21995</td>\n",
       "      <td>893</td>\n",
       "      <td>0029501188</td>\n",
       "      <td>1996-04-21</td>\n",
       "      <td>CHI @ WAS</td>\n",
       "      <td>W</td>\n",
       "      <td>24</td>\n",
       "      <td>11</td>\n",
       "      <td>22</td>\n",
       "      <td>0.500</td>\n",
       "      <td>...</td>\n",
       "      <td>3</td>\n",
       "      <td>4</td>\n",
       "      <td>4</td>\n",
       "      <td>4</td>\n",
       "      <td>0</td>\n",
       "      <td>1</td>\n",
       "      <td>0</td>\n",
       "      <td>26</td>\n",
       "      <td>None</td>\n",
       "      <td>0</td>\n",
       "    </tr>\n",
       "    <tr>\n",
       "      <th>1</th>\n",
       "      <td>21995</td>\n",
       "      <td>893</td>\n",
       "      <td>0029501175</td>\n",
       "      <td>1996-04-20</td>\n",
       "      <td>CHI vs. IND</td>\n",
       "      <td>L</td>\n",
       "      <td>31</td>\n",
       "      <td>9</td>\n",
       "      <td>23</td>\n",
       "      <td>0.391</td>\n",
       "      <td>...</td>\n",
       "      <td>2</td>\n",
       "      <td>2</td>\n",
       "      <td>6</td>\n",
       "      <td>1</td>\n",
       "      <td>1</td>\n",
       "      <td>3</td>\n",
       "      <td>4</td>\n",
       "      <td>24</td>\n",
       "      <td>None</td>\n",
       "      <td>0</td>\n",
       "    </tr>\n",
       "    <tr>\n",
       "      <th>2</th>\n",
       "      <td>21995</td>\n",
       "      <td>893</td>\n",
       "      <td>0029501158</td>\n",
       "      <td>1996-04-18</td>\n",
       "      <td>CHI vs. DET</td>\n",
       "      <td>W</td>\n",
       "      <td>24</td>\n",
       "      <td>11</td>\n",
       "      <td>18</td>\n",
       "      <td>0.611</td>\n",
       "      <td>...</td>\n",
       "      <td>4</td>\n",
       "      <td>5</td>\n",
       "      <td>1</td>\n",
       "      <td>1</td>\n",
       "      <td>0</td>\n",
       "      <td>2</td>\n",
       "      <td>1</td>\n",
       "      <td>30</td>\n",
       "      <td>None</td>\n",
       "      <td>0</td>\n",
       "    </tr>\n",
       "    <tr>\n",
       "      <th>3</th>\n",
       "      <td>21995</td>\n",
       "      <td>893</td>\n",
       "      <td>0029501144</td>\n",
       "      <td>1996-04-16</td>\n",
       "      <td>CHI @ MIL</td>\n",
       "      <td>W</td>\n",
       "      <td>42</td>\n",
       "      <td>9</td>\n",
       "      <td>27</td>\n",
       "      <td>0.333</td>\n",
       "      <td>...</td>\n",
       "      <td>8</td>\n",
       "      <td>9</td>\n",
       "      <td>4</td>\n",
       "      <td>2</td>\n",
       "      <td>1</td>\n",
       "      <td>4</td>\n",
       "      <td>1</td>\n",
       "      <td>22</td>\n",
       "      <td>None</td>\n",
       "      <td>0</td>\n",
       "    </tr>\n",
       "    <tr>\n",
       "      <th>4</th>\n",
       "      <td>21995</td>\n",
       "      <td>893</td>\n",
       "      <td>0029501134</td>\n",
       "      <td>1996-04-14</td>\n",
       "      <td>CHI @ CLE</td>\n",
       "      <td>W</td>\n",
       "      <td>35</td>\n",
       "      <td>11</td>\n",
       "      <td>18</td>\n",
       "      <td>0.611</td>\n",
       "      <td>...</td>\n",
       "      <td>9</td>\n",
       "      <td>12</td>\n",
       "      <td>3</td>\n",
       "      <td>1</td>\n",
       "      <td>0</td>\n",
       "      <td>3</td>\n",
       "      <td>0</td>\n",
       "      <td>32</td>\n",
       "      <td>None</td>\n",
       "      <td>0</td>\n",
       "    </tr>\n",
       "  </tbody>\n",
       "</table>\n",
       "<p>5 rows × 27 columns</p>\n",
       "</div>"
      ],
      "text/plain": [
       "  SEASON_ID  Player_ID     Game_ID  GAME_DATE      MATCHUP WL  MIN  FGM  FGA  \\\n",
       "0     21995        893  0029501188 1996-04-21    CHI @ WAS  W   24   11   22   \n",
       "1     21995        893  0029501175 1996-04-20  CHI vs. IND  L   31    9   23   \n",
       "2     21995        893  0029501158 1996-04-18  CHI vs. DET  W   24   11   18   \n",
       "3     21995        893  0029501144 1996-04-16    CHI @ MIL  W   42    9   27   \n",
       "4     21995        893  0029501134 1996-04-14    CHI @ CLE  W   35   11   18   \n",
       "\n",
       "   FG_PCT       ...         DREB  REB  AST  STL  BLK  TOV  PF  PTS  \\\n",
       "0   0.500       ...            3    4    4    4    0    1   0   26   \n",
       "1   0.391       ...            2    2    6    1    1    3   4   24   \n",
       "2   0.611       ...            4    5    1    1    0    2   1   30   \n",
       "3   0.333       ...            8    9    4    2    1    4   1   22   \n",
       "4   0.611       ...            9   12    3    1    0    3   0   32   \n",
       "\n",
       "   PLUS_MINUS  VIDEO_AVAILABLE  \n",
       "0        None                0  \n",
       "1        None                0  \n",
       "2        None                0  \n",
       "3        None                0  \n",
       "4        None                0  \n",
       "\n",
       "[5 rows x 27 columns]"
      ]
     },
     "execution_count": 9,
     "metadata": {},
     "output_type": "execute_result"
    }
   ],
   "source": [
    "jordan_gamelogs = nba.PlayerLog(jordan_id, '00', '1995-96', 'Regular Season')\n",
    "jordan_df = jordan_gamelogs.get_game_logs()\n",
    "jordan_df.head()"
   ]
  },
  {
   "cell_type": "markdown",
   "metadata": {},
   "source": [
    "By changing the `Season_Type` parameter to `'Playoffs'`, we can pull Jordan's playoff games instead."
   ]
  },
  {
   "cell_type": "code",
   "execution_count": 10,
   "metadata": {
    "collapsed": false,
    "scrolled": true
   },
   "outputs": [
    {
     "data": {
      "text/html": [
       "<div>\n",
       "<table border=\"1\" class=\"dataframe\">\n",
       "  <thead>\n",
       "    <tr style=\"text-align: right;\">\n",
       "      <th></th>\n",
       "      <th>SEASON_ID</th>\n",
       "      <th>Player_ID</th>\n",
       "      <th>Game_ID</th>\n",
       "      <th>GAME_DATE</th>\n",
       "      <th>MATCHUP</th>\n",
       "      <th>WL</th>\n",
       "      <th>MIN</th>\n",
       "      <th>FGM</th>\n",
       "      <th>FGA</th>\n",
       "      <th>FG_PCT</th>\n",
       "      <th>...</th>\n",
       "      <th>DREB</th>\n",
       "      <th>REB</th>\n",
       "      <th>AST</th>\n",
       "      <th>STL</th>\n",
       "      <th>BLK</th>\n",
       "      <th>TOV</th>\n",
       "      <th>PF</th>\n",
       "      <th>PTS</th>\n",
       "      <th>PLUS_MINUS</th>\n",
       "      <th>VIDEO_AVAILABLE</th>\n",
       "    </tr>\n",
       "  </thead>\n",
       "  <tbody>\n",
       "    <tr>\n",
       "      <th>0</th>\n",
       "      <td>41995</td>\n",
       "      <td>893</td>\n",
       "      <td>0049500068</td>\n",
       "      <td>1996-06-16</td>\n",
       "      <td>CHI vs. SEA</td>\n",
       "      <td>W</td>\n",
       "      <td>43</td>\n",
       "      <td>5</td>\n",
       "      <td>19</td>\n",
       "      <td>0.263</td>\n",
       "      <td>...</td>\n",
       "      <td>6</td>\n",
       "      <td>9</td>\n",
       "      <td>7</td>\n",
       "      <td>2</td>\n",
       "      <td>0</td>\n",
       "      <td>5</td>\n",
       "      <td>3</td>\n",
       "      <td>22</td>\n",
       "      <td>None</td>\n",
       "      <td>0</td>\n",
       "    </tr>\n",
       "    <tr>\n",
       "      <th>1</th>\n",
       "      <td>41995</td>\n",
       "      <td>893</td>\n",
       "      <td>0049500067</td>\n",
       "      <td>1996-06-14</td>\n",
       "      <td>CHI @ SEA</td>\n",
       "      <td>L</td>\n",
       "      <td>43</td>\n",
       "      <td>11</td>\n",
       "      <td>22</td>\n",
       "      <td>0.500</td>\n",
       "      <td>...</td>\n",
       "      <td>2</td>\n",
       "      <td>4</td>\n",
       "      <td>1</td>\n",
       "      <td>1</td>\n",
       "      <td>0</td>\n",
       "      <td>2</td>\n",
       "      <td>3</td>\n",
       "      <td>26</td>\n",
       "      <td>None</td>\n",
       "      <td>0</td>\n",
       "    </tr>\n",
       "    <tr>\n",
       "      <th>2</th>\n",
       "      <td>41995</td>\n",
       "      <td>893</td>\n",
       "      <td>0049500066</td>\n",
       "      <td>1996-06-12</td>\n",
       "      <td>CHI @ SEA</td>\n",
       "      <td>L</td>\n",
       "      <td>41</td>\n",
       "      <td>6</td>\n",
       "      <td>19</td>\n",
       "      <td>0.316</td>\n",
       "      <td>...</td>\n",
       "      <td>2</td>\n",
       "      <td>3</td>\n",
       "      <td>2</td>\n",
       "      <td>1</td>\n",
       "      <td>0</td>\n",
       "      <td>4</td>\n",
       "      <td>3</td>\n",
       "      <td>23</td>\n",
       "      <td>None</td>\n",
       "      <td>0</td>\n",
       "    </tr>\n",
       "    <tr>\n",
       "      <th>3</th>\n",
       "      <td>41995</td>\n",
       "      <td>893</td>\n",
       "      <td>0049500065</td>\n",
       "      <td>1996-06-09</td>\n",
       "      <td>CHI @ SEA</td>\n",
       "      <td>W</td>\n",
       "      <td>41</td>\n",
       "      <td>11</td>\n",
       "      <td>23</td>\n",
       "      <td>0.478</td>\n",
       "      <td>...</td>\n",
       "      <td>1</td>\n",
       "      <td>3</td>\n",
       "      <td>5</td>\n",
       "      <td>2</td>\n",
       "      <td>0</td>\n",
       "      <td>3</td>\n",
       "      <td>1</td>\n",
       "      <td>36</td>\n",
       "      <td>None</td>\n",
       "      <td>0</td>\n",
       "    </tr>\n",
       "    <tr>\n",
       "      <th>4</th>\n",
       "      <td>41995</td>\n",
       "      <td>893</td>\n",
       "      <td>0049500064</td>\n",
       "      <td>1996-06-07</td>\n",
       "      <td>CHI vs. SEA</td>\n",
       "      <td>W</td>\n",
       "      <td>43</td>\n",
       "      <td>9</td>\n",
       "      <td>22</td>\n",
       "      <td>0.409</td>\n",
       "      <td>...</td>\n",
       "      <td>4</td>\n",
       "      <td>6</td>\n",
       "      <td>8</td>\n",
       "      <td>2</td>\n",
       "      <td>0</td>\n",
       "      <td>2</td>\n",
       "      <td>3</td>\n",
       "      <td>29</td>\n",
       "      <td>None</td>\n",
       "      <td>0</td>\n",
       "    </tr>\n",
       "  </tbody>\n",
       "</table>\n",
       "<p>5 rows × 27 columns</p>\n",
       "</div>"
      ],
      "text/plain": [
       "  SEASON_ID  Player_ID     Game_ID  GAME_DATE      MATCHUP WL  MIN  FGM  FGA  \\\n",
       "0     41995        893  0049500068 1996-06-16  CHI vs. SEA  W   43    5   19   \n",
       "1     41995        893  0049500067 1996-06-14    CHI @ SEA  L   43   11   22   \n",
       "2     41995        893  0049500066 1996-06-12    CHI @ SEA  L   41    6   19   \n",
       "3     41995        893  0049500065 1996-06-09    CHI @ SEA  W   41   11   23   \n",
       "4     41995        893  0049500064 1996-06-07  CHI vs. SEA  W   43    9   22   \n",
       "\n",
       "   FG_PCT       ...         DREB  REB  AST  STL  BLK  TOV  PF  PTS  \\\n",
       "0   0.263       ...            6    9    7    2    0    5   3   22   \n",
       "1   0.500       ...            2    4    1    1    0    2   3   26   \n",
       "2   0.316       ...            2    3    2    1    0    4   3   23   \n",
       "3   0.478       ...            1    3    5    2    0    3   1   36   \n",
       "4   0.409       ...            4    6    8    2    0    2   3   29   \n",
       "\n",
       "   PLUS_MINUS  VIDEO_AVAILABLE  \n",
       "0        None                0  \n",
       "1        None                0  \n",
       "2        None                0  \n",
       "3        None                0  \n",
       "4        None                0  \n",
       "\n",
       "[5 rows x 27 columns]"
      ]
     },
     "execution_count": 10,
     "metadata": {},
     "output_type": "execute_result"
    }
   ],
   "source": [
    "jordan_gamelogs1 = nba.PlayerLog(jordan_id, '00', '1995-96', 'Playoffs')\n",
    "jordan_df1 = jordan_gamelogs1.get_game_logs()\n",
    "jordan_df1.head()"
   ]
  },
  {
   "cell_type": "markdown",
   "metadata": {},
   "source": [
    "We can do some simple analysis on the data we pull by applying some `pandas` methods.\n",
    "\n",
    "According to the shape and mean of the `jordan_df` dataframe, Jordan played 82 games, or the full season, in the 1995-96 regular season, and averaged 30 points, 4 assists, 2 steals and almost 7 rebounds a game:"
   ]
  },
  {
   "cell_type": "code",
   "execution_count": 11,
   "metadata": {
    "collapsed": false,
    "scrolled": true
   },
   "outputs": [
    {
     "name": "stdout",
     "output_type": "stream",
     "text": [
      "(82, 27)\n"
     ]
    }
   ],
   "source": [
    "print(jordan_df.shape)"
   ]
  },
  {
   "cell_type": "code",
   "execution_count": 12,
   "metadata": {
    "collapsed": false
   },
   "outputs": [
    {
     "data": {
      "text/plain": [
       "Player_ID          893.000000\n",
       "MIN                 37.682927\n",
       "FGM                 11.170732\n",
       "FGA                 22.560976\n",
       "FG_PCT               0.494646\n",
       "FG3M                 1.353659\n",
       "FG3A                 3.170732\n",
       "FG3_PCT              0.342037\n",
       "FTM                  6.682927\n",
       "FTA                  8.012195\n",
       "FT_PCT               0.829329\n",
       "OREB                 1.804878\n",
       "DREB                 4.817073\n",
       "REB                  6.621951\n",
       "AST                  4.292683\n",
       "STL                  2.195122\n",
       "BLK                  0.512195\n",
       "TOV                  2.402439\n",
       "PF                   2.378049\n",
       "PTS                 30.378049\n",
       "VIDEO_AVAILABLE      0.000000\n",
       "dtype: float64"
      ]
     },
     "execution_count": 12,
     "metadata": {},
     "output_type": "execute_result"
    }
   ],
   "source": [
    "jordan_df.mean()"
   ]
  },
  {
   "cell_type": "markdown",
   "metadata": {},
   "source": [
    "## Data Compilation\n",
    "To gather the appropriate data to analyze Kobe and Jordan, we need to first aggregate their statistics over the seasons. We will start by aggregating Kobe's career games.\n",
    "\n",
    "Kobe played for 18 active seasons. The variable `k_active_seasons` is assigned for this statistic:"
   ]
  },
  {
   "cell_type": "code",
   "execution_count": 13,
   "metadata": {
    "collapsed": true
   },
   "outputs": [],
   "source": [
    "k_active_seasons = ['1996-97','1997-98','1998-99','1999-00','2000-01','2001-02','2002-03','2003-04','2004-05','2005-06','2006-07','2007-08','2008-09','2009-10','2010-11','2011-12','2012-13','2013-14','2014-15','2015-16']"
   ]
  },
  {
   "cell_type": "markdown",
   "metadata": {},
   "source": [
    "Then we loop through the seasons to aggregate all of his career games during the regular season:"
   ]
  },
  {
   "cell_type": "code",
   "execution_count": 14,
   "metadata": {
    "collapsed": false
   },
   "outputs": [],
   "source": [
    "def total_reg(player_id, active_seasons):\n",
    "    a = {}\n",
    "    a = pd.DataFrame(a)\n",
    "    for i in active_seasons:\n",
    "        gamelogs = nba.PlayerLog(player_id, '00', i, 'Regular Season')\n",
    "        df = gamelogs.get_game_logs()\n",
    "        a = a.append(df, ignore_index = True)\n",
    "    return a"
   ]
  },
  {
   "cell_type": "code",
   "execution_count": 15,
   "metadata": {
    "collapsed": false
   },
   "outputs": [
    {
     "data": {
      "text/plain": [
       "(1346, 27)"
      ]
     },
     "execution_count": 15,
     "metadata": {},
     "output_type": "execute_result"
    }
   ],
   "source": [
    "agg_kobe_reg = total_reg(kobe_id, k_active_seasons)\n",
    "agg_kobe_reg.shape"
   ]
  },
  {
   "cell_type": "markdown",
   "metadata": {},
   "source": [
    "Since for any season which there were no games played returns an empty DataFrame, we can apply the same loop for Kobe's playoff games:"
   ]
  },
  {
   "cell_type": "code",
   "execution_count": 16,
   "metadata": {
    "collapsed": true
   },
   "outputs": [],
   "source": [
    "def total_po(player_id, active_seasons):\n",
    "    a = {}\n",
    "    a = pd.DataFrame(a)\n",
    "    for i in active_seasons:\n",
    "        gamelogs = nba.PlayerLog(player_id, '00', i, 'Playoffs')\n",
    "        df = gamelogs.get_game_logs()\n",
    "        a = a.append(df, ignore_index = True)\n",
    "    return a"
   ]
  },
  {
   "cell_type": "code",
   "execution_count": 17,
   "metadata": {
    "collapsed": false
   },
   "outputs": [
    {
     "data": {
      "text/plain": [
       "(220, 27)"
      ]
     },
     "execution_count": 17,
     "metadata": {},
     "output_type": "execute_result"
    }
   ],
   "source": [
    "agg_kobe_po = total_po(kobe_id, k_active_seasons)\n",
    "agg_kobe_po.shape"
   ]
  },
  {
   "cell_type": "markdown",
   "metadata": {},
   "source": [
    "We assign the variable `agg_kobe` with all game statistics, regardless of regular season or playoffs."
   ]
  },
  {
   "cell_type": "code",
   "execution_count": 18,
   "metadata": {
    "collapsed": false
   },
   "outputs": [
    {
     "data": {
      "text/plain": [
       "(1566, 27)"
      ]
     },
     "execution_count": 18,
     "metadata": {},
     "output_type": "execute_result"
    }
   ],
   "source": [
    "agg_kobe = agg_kobe_reg.append(agg_kobe_po)\n",
    "agg_kobe.shape"
   ]
  },
  {
   "cell_type": "markdown",
   "metadata": {},
   "source": [
    "By assigning Jordan's active seasons to a variable, we can aggregate Jordan's regular season games and playoff games as well:"
   ]
  },
  {
   "cell_type": "code",
   "execution_count": 19,
   "metadata": {
    "collapsed": true
   },
   "outputs": [],
   "source": [
    "j_active_seasons = ['1984-85','1985-86','1986-87','1987-88','1988-89', '1989-90','1990-91','1991-92','1992-93','1993-94','1994-95','1995-96','1996-97','1997-98','2001-02','2002-03']"
   ]
  },
  {
   "cell_type": "code",
   "execution_count": 46,
   "metadata": {
    "collapsed": false
   },
   "outputs": [
    {
     "data": {
      "text/plain": [
       "(1072, 27)"
      ]
     },
     "execution_count": 46,
     "metadata": {},
     "output_type": "execute_result"
    }
   ],
   "source": [
    "agg_jordan_reg = total_reg(jordan_id, j_active_seasons)\n",
    "agg_jordan_reg.shape"
   ]
  },
  {
   "cell_type": "code",
   "execution_count": 47,
   "metadata": {
    "collapsed": false
   },
   "outputs": [
    {
     "data": {
      "text/plain": [
       "(179, 27)"
      ]
     },
     "execution_count": 47,
     "metadata": {},
     "output_type": "execute_result"
    }
   ],
   "source": [
    "agg_jordan_po = total_po(jordan_id, j_active_seasons)\n",
    "agg_jordan_po.shape"
   ]
  },
  {
   "cell_type": "code",
   "execution_count": 48,
   "metadata": {
    "collapsed": false,
    "scrolled": true
   },
   "outputs": [
    {
     "data": {
      "text/plain": [
       "(1251, 27)"
      ]
     },
     "execution_count": 48,
     "metadata": {},
     "output_type": "execute_result"
    }
   ],
   "source": [
    "agg_jordan = agg_jordan_reg.append(agg_jordan_po, ignore_index = True)\n",
    "agg_jordan.shape"
   ]
  },
  {
   "cell_type": "markdown",
   "metadata": {},
   "source": [
    "We can call on the career average stats for Kobe and Jordan through:"
   ]
  },
  {
   "cell_type": "code",
   "execution_count": 49,
   "metadata": {
    "collapsed": false
   },
   "outputs": [
    {
     "data": {
      "text/plain": [
       "Player_ID          977.000000\n",
       "MIN                 36.565773\n",
       "FGM                  8.769476\n",
       "FGA                 19.603448\n",
       "FG_PCT               0.441227\n",
       "FG3M                 1.353129\n",
       "FG3A                 4.104725\n",
       "FG3_PCT              0.279711\n",
       "FTM                  6.192848\n",
       "FTA                  7.425287\n",
       "FT_PCT               0.782725\n",
       "OREB                 1.104087\n",
       "DREB                 4.110473\n",
       "REB                  5.214559\n",
       "AST                  4.690932\n",
       "STL                  1.439336\n",
       "BLK                  0.500639\n",
       "TOV                  2.973819\n",
       "PF                   2.562580\n",
       "PTS                 25.084930\n",
       "PLUS_MINUS           3.010217\n",
       "VIDEO_AVAILABLE      0.114943\n",
       "dtype: float64"
      ]
     },
     "execution_count": 49,
     "metadata": {},
     "output_type": "execute_result"
    }
   ],
   "source": [
    "agg_kobe.mean()"
   ]
  },
  {
   "cell_type": "markdown",
   "metadata": {},
   "source": [
    "Going through the `agg_jordan` dataframe, I've noticed that there are 'None' entries for when the appropriate data is '0'. \n",
    "\n",
    "We will use the `.fillna(0)` method to help fix that:"
   ]
  },
  {
   "cell_type": "code",
   "execution_count": 51,
   "metadata": {
    "collapsed": false,
    "scrolled": true
   },
   "outputs": [
    {
     "data": {
      "text/html": [
       "<div>\n",
       "<table border=\"1\" class=\"dataframe\">\n",
       "  <thead>\n",
       "    <tr style=\"text-align: right;\">\n",
       "      <th></th>\n",
       "      <th>SEASON_ID</th>\n",
       "      <th>Player_ID</th>\n",
       "      <th>Game_ID</th>\n",
       "      <th>GAME_DATE</th>\n",
       "      <th>MATCHUP</th>\n",
       "      <th>WL</th>\n",
       "      <th>MIN</th>\n",
       "      <th>FGM</th>\n",
       "      <th>FGA</th>\n",
       "      <th>FG_PCT</th>\n",
       "      <th>...</th>\n",
       "      <th>DREB</th>\n",
       "      <th>REB</th>\n",
       "      <th>AST</th>\n",
       "      <th>STL</th>\n",
       "      <th>BLK</th>\n",
       "      <th>TOV</th>\n",
       "      <th>PF</th>\n",
       "      <th>PTS</th>\n",
       "      <th>PLUS_MINUS</th>\n",
       "      <th>VIDEO_AVAILABLE</th>\n",
       "    </tr>\n",
       "  </thead>\n",
       "  <tbody>\n",
       "    <tr>\n",
       "      <th>0</th>\n",
       "      <td>21984</td>\n",
       "      <td>893.0</td>\n",
       "      <td>0028400936</td>\n",
       "      <td>1985-04-13</td>\n",
       "      <td>CHI @ NJN</td>\n",
       "      <td>L</td>\n",
       "      <td>0.0</td>\n",
       "      <td>9.0</td>\n",
       "      <td>24.0</td>\n",
       "      <td>0.375</td>\n",
       "      <td>...</td>\n",
       "      <td>None</td>\n",
       "      <td>2.0</td>\n",
       "      <td>9.0</td>\n",
       "      <td>None</td>\n",
       "      <td>NaN</td>\n",
       "      <td>None</td>\n",
       "      <td>NaN</td>\n",
       "      <td>29.0</td>\n",
       "      <td>None</td>\n",
       "      <td>0.0</td>\n",
       "    </tr>\n",
       "    <tr>\n",
       "      <th>1</th>\n",
       "      <td>21984</td>\n",
       "      <td>893.0</td>\n",
       "      <td>0028400930</td>\n",
       "      <td>1985-04-12</td>\n",
       "      <td>CHI vs. ATL</td>\n",
       "      <td>L</td>\n",
       "      <td>0.0</td>\n",
       "      <td>11.0</td>\n",
       "      <td>16.0</td>\n",
       "      <td>0.688</td>\n",
       "      <td>...</td>\n",
       "      <td>None</td>\n",
       "      <td>3.0</td>\n",
       "      <td>6.0</td>\n",
       "      <td>None</td>\n",
       "      <td>NaN</td>\n",
       "      <td>None</td>\n",
       "      <td>NaN</td>\n",
       "      <td>28.0</td>\n",
       "      <td>None</td>\n",
       "      <td>0.0</td>\n",
       "    </tr>\n",
       "    <tr>\n",
       "      <th>2</th>\n",
       "      <td>21984</td>\n",
       "      <td>893.0</td>\n",
       "      <td>0028400903</td>\n",
       "      <td>1985-04-08</td>\n",
       "      <td>CHI @ IND</td>\n",
       "      <td>L</td>\n",
       "      <td>0.0</td>\n",
       "      <td>6.0</td>\n",
       "      <td>20.0</td>\n",
       "      <td>0.300</td>\n",
       "      <td>...</td>\n",
       "      <td>None</td>\n",
       "      <td>8.0</td>\n",
       "      <td>5.0</td>\n",
       "      <td>None</td>\n",
       "      <td>NaN</td>\n",
       "      <td>None</td>\n",
       "      <td>NaN</td>\n",
       "      <td>22.0</td>\n",
       "      <td>None</td>\n",
       "      <td>0.0</td>\n",
       "    </tr>\n",
       "    <tr>\n",
       "      <th>3</th>\n",
       "      <td>21984</td>\n",
       "      <td>893.0</td>\n",
       "      <td>0028400892</td>\n",
       "      <td>1985-04-06</td>\n",
       "      <td>CHI @ ATL</td>\n",
       "      <td>W</td>\n",
       "      <td>0.0</td>\n",
       "      <td>12.0</td>\n",
       "      <td>18.0</td>\n",
       "      <td>0.667</td>\n",
       "      <td>...</td>\n",
       "      <td>None</td>\n",
       "      <td>7.0</td>\n",
       "      <td>4.0</td>\n",
       "      <td>None</td>\n",
       "      <td>NaN</td>\n",
       "      <td>None</td>\n",
       "      <td>NaN</td>\n",
       "      <td>33.0</td>\n",
       "      <td>None</td>\n",
       "      <td>0.0</td>\n",
       "    </tr>\n",
       "    <tr>\n",
       "      <th>4</th>\n",
       "      <td>21984</td>\n",
       "      <td>893.0</td>\n",
       "      <td>0028400890</td>\n",
       "      <td>1985-04-05</td>\n",
       "      <td>CHI @ PHL</td>\n",
       "      <td>L</td>\n",
       "      <td>38.0</td>\n",
       "      <td>13.0</td>\n",
       "      <td>21.0</td>\n",
       "      <td>0.619</td>\n",
       "      <td>...</td>\n",
       "      <td>None</td>\n",
       "      <td>1.0</td>\n",
       "      <td>5.0</td>\n",
       "      <td>None</td>\n",
       "      <td>0.0</td>\n",
       "      <td>None</td>\n",
       "      <td>6.0</td>\n",
       "      <td>40.0</td>\n",
       "      <td>None</td>\n",
       "      <td>0.0</td>\n",
       "    </tr>\n",
       "  </tbody>\n",
       "</table>\n",
       "<p>5 rows × 27 columns</p>\n",
       "</div>"
      ],
      "text/plain": [
       "  SEASON_ID  Player_ID     Game_ID  GAME_DATE      MATCHUP WL   MIN   FGM  \\\n",
       "0     21984      893.0  0028400936 1985-04-13    CHI @ NJN  L   0.0   9.0   \n",
       "1     21984      893.0  0028400930 1985-04-12  CHI vs. ATL  L   0.0  11.0   \n",
       "2     21984      893.0  0028400903 1985-04-08    CHI @ IND  L   0.0   6.0   \n",
       "3     21984      893.0  0028400892 1985-04-06    CHI @ ATL  W   0.0  12.0   \n",
       "4     21984      893.0  0028400890 1985-04-05    CHI @ PHL  L  38.0  13.0   \n",
       "\n",
       "    FGA  FG_PCT       ...         DREB  REB  AST   STL  BLK   TOV   PF   PTS  \\\n",
       "0  24.0   0.375       ...         None  2.0  9.0  None  NaN  None  NaN  29.0   \n",
       "1  16.0   0.688       ...         None  3.0  6.0  None  NaN  None  NaN  28.0   \n",
       "2  20.0   0.300       ...         None  8.0  5.0  None  NaN  None  NaN  22.0   \n",
       "3  18.0   0.667       ...         None  7.0  4.0  None  NaN  None  NaN  33.0   \n",
       "4  21.0   0.619       ...         None  1.0  5.0  None  0.0  None  6.0  40.0   \n",
       "\n",
       "   PLUS_MINUS  VIDEO_AVAILABLE  \n",
       "0        None              0.0  \n",
       "1        None              0.0  \n",
       "2        None              0.0  \n",
       "3        None              0.0  \n",
       "4        None              0.0  \n",
       "\n",
       "[5 rows x 27 columns]"
      ]
     },
     "execution_count": 51,
     "metadata": {},
     "output_type": "execute_result"
    }
   ],
   "source": [
    "agg_jordan.head()"
   ]
  },
  {
   "cell_type": "code",
   "execution_count": 52,
   "metadata": {
    "collapsed": false
   },
   "outputs": [
    {
     "data": {
      "text/plain": [
       "Player_ID          893.000000\n",
       "MIN                 36.386890\n",
       "FGM                 11.494804\n",
       "FGA                 23.202238\n",
       "FG_PCT               0.494349\n",
       "FG3M                 0.582734\n",
       "FG3A                 1.737810\n",
       "FG3_PCT              0.188791\n",
       "FTM                  7.026379\n",
       "FTA                  8.423661\n",
       "FT_PCT               0.806135\n",
       "OREB                 1.443645\n",
       "DREB                 4.383693\n",
       "REB                  6.254197\n",
       "AST                  5.319744\n",
       "STL                  2.153477\n",
       "BLK                  0.786571\n",
       "TOV                  2.541167\n",
       "PF                   2.458833\n",
       "PTS                 30.598721\n",
       "PLUS_MINUS           1.390887\n",
       "VIDEO_AVAILABLE      0.000000\n",
       "dtype: float64"
      ]
     },
     "execution_count": 52,
     "metadata": {},
     "output_type": "execute_result"
    }
   ],
   "source": [
    "agg_jordan.fillna(0).mean()"
   ]
  },
  {
   "cell_type": "markdown",
   "metadata": {},
   "source": [
    "## Data Analysis\n",
    "To begin comparing the two players, we can fist look at the disparity between the average career stats of Kobe and Jordan:"
   ]
  },
  {
   "cell_type": "code",
   "execution_count": 53,
   "metadata": {
    "collapsed": false,
    "scrolled": true
   },
   "outputs": [
    {
     "data": {
      "text/plain": [
       "Player_ID          84.000000\n",
       "MIN                 0.178882\n",
       "FGM                -2.725328\n",
       "FGA                -3.598790\n",
       "FG_PCT             -0.053121\n",
       "FG3M                0.770395\n",
       "FG3A                2.366916\n",
       "FG3_PCT             0.090920\n",
       "FTM                -0.833531\n",
       "FTA                -0.998374\n",
       "FT_PCT             -0.023410\n",
       "OREB               -0.339558\n",
       "DREB               -0.273221\n",
       "REB                -1.039637\n",
       "AST                -0.628812\n",
       "STL                -0.714141\n",
       "BLK                -0.285932\n",
       "TOV                 0.432652\n",
       "PF                  0.103747\n",
       "PTS                -5.513791\n",
       "PLUS_MINUS          1.619330\n",
       "VIDEO_AVAILABLE     0.114943\n",
       "dtype: float64"
      ]
     },
     "execution_count": 53,
     "metadata": {},
     "output_type": "execute_result"
    }
   ],
   "source": [
    "agg_disparity = agg_kobe.mean() - agg_jordan.fillna(0).mean()\n",
    "agg_disparity"
   ]
  },
  {
   "cell_type": "markdown",
   "metadata": {},
   "source": [
    "According to the data, Jordan contributed more on a per-game basis compared to Kobe Bryant. Jordan averaged around 5 more points, 1 more rebound, 0.62 more assists, and 0.71 more steals per game in his career than Kobe. \n",
    "\n",
    "For players at the calibre of Jordan and Kobe, such a difference is relatively insignificant. The disparity is likey due to Kobe playing alongside Hall-of-Fame Center Shaquille O'Neal for a significant portion of his career, thus having to share playing time and the ball more often than Jordan. \n",
    "\n",
    "We then look at the distribution of their career averages. Focusing on the statistical distribution of the statistics may be a good way to understand their **consistency** throughout their career performing on the court. We will be looking specifically at points scored, assists, rebounds, and steals as those are typically the key stats evaluated for the guard position. \n",
    "\n",
    "We can graph a histogram of their career stats in a normal distribution to see if there are any significant differences:"
   ]
  },
  {
   "cell_type": "code",
   "execution_count": 54,
   "metadata": {
    "collapsed": false
   },
   "outputs": [
    {
     "data": {
      "text/plain": [
       "<matplotlib.axes._subplots.AxesSubplot at 0x11beec5f8>"
      ]
     },
     "execution_count": 54,
     "metadata": {},
     "output_type": "execute_result"
    },
    {
     "data": {
      "image/png": "[encoded data removed]",
      "text/plain": [
       "<matplotlib.figure.Figure at 0x11b454898>"
      ]
     },
     "metadata": {},
     "output_type": "display_data"
    }
   ],
   "source": [
    "fig, ax = plt.subplots(2,4)\n",
    "fig.set_size_inches(9.5, 5.5)\n",
    "fig.suptitle('Statistic Distribution Comparison: Kobe vs. MJ ')\n",
    "agg_kobe['PTS'].plot(ax = ax[0,0],\n",
    "                     kind='hist',\n",
    "                     bins = 50,\n",
    "                     sharex= True,\n",
    "                     title = 'Kobe Pt Dist.',\n",
    "                     fontsize=8,\n",
    "                     normed=True)\n",
    "\n",
    "agg_jordan['PTS'].plot(ax = ax[1,0],\n",
    "                     kind='hist',\n",
    "                     bins = 50,\n",
    "                     sharex = True,\n",
    "                     sharey = True,\n",
    "                     title = 'MJ Pt Dist.',\n",
    "                     fontsize=8,\n",
    "                     normed=True)\n",
    "\n",
    "agg_kobe['AST'].plot(ax = ax[0,1],\n",
    "                     kind='hist',\n",
    "                     bins = 50,\n",
    "                     sharey = True,\n",
    "                     title = 'Kobe Assist Dist.',\n",
    "                     fontsize=8,\n",
    "                     normed=True)\n",
    "\n",
    "agg_jordan['AST'].plot(ax = ax[1,1],\n",
    "                     kind='hist',\n",
    "                     bins = 50,\n",
    "                     sharex= True,\n",
    "                     sharey=True,\n",
    "                     title = 'MJ Assist Dist.',\n",
    "                     fontsize=8,\n",
    "                     normed=True)\n",
    "\n",
    "agg_kobe['REB'].plot(ax = ax[0,2],\n",
    "                     kind='hist',\n",
    "                     bins = 50,\n",
    "                     sharey = True,\n",
    "                     title = 'Kobe Reb Dist.',\n",
    "                     fontsize=8,\n",
    "                     normed=True)\n",
    "\n",
    "agg_jordan['REB'].plot(ax = ax[1,2],\n",
    "                     kind='hist',\n",
    "                     bins = 50,\n",
    "                     sharex= True,\n",
    "                     sharey=True,\n",
    "                     title = 'MJ Reb Dist.',\n",
    "                     fontsize=8,\n",
    "                     normed=True)\n",
    "\n",
    "agg_kobe['STL'].plot(ax = ax[0,3],\n",
    "                     kind='hist',\n",
    "                     bins = 50,\n",
    "                     sharey = True,\n",
    "                     title = 'Kobe Stls Dist.',\n",
    "                     fontsize=8,\n",
    "                     normed=True)\n",
    "\n",
    "agg_jordan['STL'].plot(ax = ax[1,3],\n",
    "                     kind='hist',\n",
    "                     bins = 50,\n",
    "                     sharex= True,\n",
    "                     sharey=True,\n",
    "                     title = 'MJ Stls Dist.',\n",
    "                     fontsize=8,\n",
    "                     normed=True)\n"
   ]
  },
  {
   "cell_type": "markdown",
   "metadata": {},
   "source": [
    "Besides Jordan's points scored distribution having a higher mean than that of Kobe and a tighter distribution for Jordan's career rebounds, we do not see any significant differences. \n",
    "\n",
    "We then take a more numeric approach. Through the `.std()` method, we can see the standard deviations of the career statistics of Kobe and Jordan to measure how much each player fluctuates in their career stats:"
   ]
  },
  {
   "cell_type": "code",
   "execution_count": 55,
   "metadata": {
    "collapsed": false,
    "scrolled": true
   },
   "outputs": [
    {
     "name": "stdout",
     "output_type": "stream",
     "text": [
      "Player_ID           0.000000\n",
      "MIN                 8.647248\n",
      "FGM                 3.949019\n",
      "FGA                 7.401612\n",
      "FG_PCT              0.132591\n",
      "FG3M                1.463009\n",
      "FG3A                2.882893\n",
      "FG3_PCT             0.262201\n",
      "FTM                 4.017196\n",
      "FTA                 4.595786\n",
      "FT_PCT              0.251492\n",
      "OREB                1.156185\n",
      "DREB                2.424830\n",
      "REB                 2.792723\n",
      "AST                 2.788888\n",
      "STL                 1.275409\n",
      "BLK                 0.783006\n",
      "TOV                 1.872950\n",
      "PF                  1.423977\n",
      "PTS                10.605674\n",
      "PLUS_MINUS         12.702289\n",
      "VIDEO_AVAILABLE     0.319054\n",
      "dtype: float64\n",
      "\n",
      "Player_ID           0.000000\n",
      "MIN                10.806914\n",
      "FGM                 3.841533\n",
      "FGA                 6.005853\n",
      "FG_PCT              0.107084\n",
      "FG3M                0.993655\n",
      "FG3A                1.869167\n",
      "FTM                 4.121566\n",
      "FTA                 4.703144\n",
      "FT_PCT              0.204070\n",
      "REB                 2.992680\n",
      "AST                 2.755083\n",
      "BLK                 1.011970\n",
      "PF                  1.404895\n",
      "PTS                 9.691751\n",
      "VIDEO_AVAILABLE     0.000000\n",
      "dtype: float64\n"
     ]
    }
   ],
   "source": [
    "print(agg_kobe.std())\n",
    "print()\n",
    "print(agg_jordan.std())"
   ]
  },
  {
   "cell_type": "code",
   "execution_count": 29,
   "metadata": {
    "collapsed": false
   },
   "outputs": [
    {
     "name": "stdout",
     "output_type": "stream",
     "text": [
      "Player_ID          0.000000\n",
      "MIN               -2.159666\n",
      "FGM                0.107486\n",
      "FGA                1.395759\n",
      "FG_PCT             0.025507\n",
      "FG3M               0.469355\n",
      "FG3A               1.018274\n",
      "FG3_PCT           -0.043419\n",
      "FTM               -0.104369\n",
      "FTA               -0.107358\n",
      "FT_PCT             0.045047\n",
      "OREB              -0.275116\n",
      "DREB              -0.277736\n",
      "REB               -0.199957\n",
      "AST                0.033805\n",
      "STL               -0.419414\n",
      "BLK               -0.217799\n",
      "TOV                0.063943\n",
      "PF                -0.071785\n",
      "PTS                0.913923\n",
      "PLUS_MINUS         5.704469\n",
      "VIDEO_AVAILABLE    0.319054\n",
      "dtype: float64\n"
     ]
    }
   ],
   "source": [
    "print(agg_kobe.std()-agg_jordan.fillna(0).std())"
   ]
  },
  {
   "cell_type": "markdown",
   "metadata": {},
   "source": [
    "We see that Jordan is more consistent with his scoring throughout his career than Kobe with a standard deviation of 9.69 in points compared to a standard deviation of 10.60 to Kobe as well as assists, with a standard deviation of 2.76 for Jordan to Kobe's 2.79. However, Kobe has stronger career consistency in terms of rebounds and steals. \n",
    "\n",
    "These differences are not significant enough to draw any conclusions for comparing the two players. \n",
    "\n",
    "We move on to evaluate specifically how playing in the playoffs affect both player's performance statsitcs, or their respective 'clutch'. We will name the percent difference in performance statstics during the post season 'clutch factor'.\n",
    "\n",
    "First, we compile the Kobe's statistical averages for the regular and post season into one dataframe:"
   ]
  },
  {
   "cell_type": "code",
   "execution_count": 30,
   "metadata": {
    "collapsed": false
   },
   "outputs": [
    {
     "data": {
      "text/html": [
       "<div>\n",
       "<table border=\"1\" class=\"dataframe\">\n",
       "  <thead>\n",
       "    <tr style=\"text-align: right;\">\n",
       "      <th></th>\n",
       "      <th>index</th>\n",
       "      <th>kobe_reg_mean</th>\n",
       "    </tr>\n",
       "  </thead>\n",
       "  <tbody>\n",
       "    <tr>\n",
       "      <th>17</th>\n",
       "      <td>TOV</td>\n",
       "      <td>2.979198</td>\n",
       "    </tr>\n",
       "    <tr>\n",
       "      <th>18</th>\n",
       "      <td>PF</td>\n",
       "      <td>2.491085</td>\n",
       "    </tr>\n",
       "    <tr>\n",
       "      <th>19</th>\n",
       "      <td>PTS</td>\n",
       "      <td>24.994799</td>\n",
       "    </tr>\n",
       "    <tr>\n",
       "      <th>20</th>\n",
       "      <td>PLUS_MINUS</td>\n",
       "      <td>3.087667</td>\n",
       "    </tr>\n",
       "    <tr>\n",
       "      <th>21</th>\n",
       "      <td>VIDEO_AVAILABLE</td>\n",
       "      <td>0.133730</td>\n",
       "    </tr>\n",
       "  </tbody>\n",
       "</table>\n",
       "</div>"
      ],
      "text/plain": [
       "              index  kobe_reg_mean\n",
       "17              TOV       2.979198\n",
       "18               PF       2.491085\n",
       "19              PTS      24.994799\n",
       "20       PLUS_MINUS       3.087667\n",
       "21  VIDEO_AVAILABLE       0.133730"
      ]
     },
     "execution_count": 30,
     "metadata": {},
     "output_type": "execute_result"
    }
   ],
   "source": [
    "kobe_rmean_df = pd.DataFrame(agg_kobe_reg.mean())\n",
    "kobe_rmean_df.columns = ['kobe_reg_mean']\n",
    "kobe_rmean_df = kobe_rmean_df.reset_index()\n",
    "kobe_rmean_df.tail()"
   ]
  },
  {
   "cell_type": "code",
   "execution_count": 31,
   "metadata": {
    "collapsed": false
   },
   "outputs": [
    {
     "data": {
      "text/html": [
       "<div>\n",
       "<table border=\"1\" class=\"dataframe\">\n",
       "  <thead>\n",
       "    <tr style=\"text-align: right;\">\n",
       "      <th></th>\n",
       "      <th>index</th>\n",
       "      <th>kobe_po_mean</th>\n",
       "    </tr>\n",
       "  </thead>\n",
       "  <tbody>\n",
       "    <tr>\n",
       "      <th>17</th>\n",
       "      <td>TOV</td>\n",
       "      <td>2.940909</td>\n",
       "    </tr>\n",
       "    <tr>\n",
       "      <th>18</th>\n",
       "      <td>PF</td>\n",
       "      <td>3.000000</td>\n",
       "    </tr>\n",
       "    <tr>\n",
       "      <th>19</th>\n",
       "      <td>PTS</td>\n",
       "      <td>25.636364</td>\n",
       "    </tr>\n",
       "    <tr>\n",
       "      <th>20</th>\n",
       "      <td>PLUS_MINUS</td>\n",
       "      <td>2.536364</td>\n",
       "    </tr>\n",
       "    <tr>\n",
       "      <th>21</th>\n",
       "      <td>VIDEO_AVAILABLE</td>\n",
       "      <td>0.000000</td>\n",
       "    </tr>\n",
       "  </tbody>\n",
       "</table>\n",
       "</div>"
      ],
      "text/plain": [
       "              index  kobe_po_mean\n",
       "17              TOV      2.940909\n",
       "18               PF      3.000000\n",
       "19              PTS     25.636364\n",
       "20       PLUS_MINUS      2.536364\n",
       "21  VIDEO_AVAILABLE      0.000000"
      ]
     },
     "execution_count": 31,
     "metadata": {},
     "output_type": "execute_result"
    }
   ],
   "source": [
    "kobe_pmean_df = pd.DataFrame(agg_kobe_po.mean())\n",
    "kobe_pmean_df.columns = ['kobe_po_mean']\n",
    "kobe_pmean_df = kobe_pmean_df.reset_index()\n",
    "kobe_pmean_df.tail()"
   ]
  },
  {
   "cell_type": "code",
   "execution_count": 32,
   "metadata": {
    "collapsed": false
   },
   "outputs": [
    {
     "data": {
      "text/html": [
       "<div>\n",
       "<table border=\"1\" class=\"dataframe\">\n",
       "  <thead>\n",
       "    <tr style=\"text-align: right;\">\n",
       "      <th></th>\n",
       "      <th>index</th>\n",
       "      <th>kobe_reg_mean</th>\n",
       "      <th>kobe_po_mean</th>\n",
       "    </tr>\n",
       "  </thead>\n",
       "  <tbody>\n",
       "    <tr>\n",
       "      <th>17</th>\n",
       "      <td>TOV</td>\n",
       "      <td>2.979198</td>\n",
       "      <td>2.940909</td>\n",
       "    </tr>\n",
       "    <tr>\n",
       "      <th>18</th>\n",
       "      <td>PF</td>\n",
       "      <td>2.491085</td>\n",
       "      <td>3.000000</td>\n",
       "    </tr>\n",
       "    <tr>\n",
       "      <th>19</th>\n",
       "      <td>PTS</td>\n",
       "      <td>24.994799</td>\n",
       "      <td>25.636364</td>\n",
       "    </tr>\n",
       "    <tr>\n",
       "      <th>20</th>\n",
       "      <td>PLUS_MINUS</td>\n",
       "      <td>3.087667</td>\n",
       "      <td>2.536364</td>\n",
       "    </tr>\n",
       "    <tr>\n",
       "      <th>21</th>\n",
       "      <td>VIDEO_AVAILABLE</td>\n",
       "      <td>0.133730</td>\n",
       "      <td>0.000000</td>\n",
       "    </tr>\n",
       "  </tbody>\n",
       "</table>\n",
       "</div>"
      ],
      "text/plain": [
       "              index  kobe_reg_mean  kobe_po_mean\n",
       "17              TOV       2.979198      2.940909\n",
       "18               PF       2.491085      3.000000\n",
       "19              PTS      24.994799     25.636364\n",
       "20       PLUS_MINUS       3.087667      2.536364\n",
       "21  VIDEO_AVAILABLE       0.133730      0.000000"
      ]
     },
     "execution_count": 32,
     "metadata": {},
     "output_type": "execute_result"
    }
   ],
   "source": [
    "kobe_clutch = pd.merge(kobe_rmean_df, kobe_pmean_df, how = 'right')\n",
    "kobe_clutch.tail()"
   ]
  },
  {
   "cell_type": "markdown",
   "metadata": {},
   "source": [
    "Then we generate a new column showing the percent improvement by generating a new column: "
   ]
  },
  {
   "cell_type": "code",
   "execution_count": 33,
   "metadata": {
    "collapsed": false
   },
   "outputs": [
    {
     "data": {
      "text/html": [
       "<div>\n",
       "<table border=\"1\" class=\"dataframe\">\n",
       "  <thead>\n",
       "    <tr style=\"text-align: right;\">\n",
       "      <th></th>\n",
       "      <th>index</th>\n",
       "      <th>kobe_reg_mean</th>\n",
       "      <th>kobe_po_mean</th>\n",
       "      <th>k_clutch_factor</th>\n",
       "    </tr>\n",
       "  </thead>\n",
       "  <tbody>\n",
       "    <tr>\n",
       "      <th>17</th>\n",
       "      <td>TOV</td>\n",
       "      <td>2.979198</td>\n",
       "      <td>2.940909</td>\n",
       "      <td>-1.285196</td>\n",
       "    </tr>\n",
       "    <tr>\n",
       "      <th>18</th>\n",
       "      <td>PF</td>\n",
       "      <td>2.491085</td>\n",
       "      <td>3.000000</td>\n",
       "      <td>20.429466</td>\n",
       "    </tr>\n",
       "    <tr>\n",
       "      <th>19</th>\n",
       "      <td>PTS</td>\n",
       "      <td>24.994799</td>\n",
       "      <td>25.636364</td>\n",
       "      <td>2.566791</td>\n",
       "    </tr>\n",
       "    <tr>\n",
       "      <th>20</th>\n",
       "      <td>PLUS_MINUS</td>\n",
       "      <td>3.087667</td>\n",
       "      <td>2.536364</td>\n",
       "      <td>-17.855018</td>\n",
       "    </tr>\n",
       "    <tr>\n",
       "      <th>21</th>\n",
       "      <td>VIDEO_AVAILABLE</td>\n",
       "      <td>0.133730</td>\n",
       "      <td>0.000000</td>\n",
       "      <td>-100.000000</td>\n",
       "    </tr>\n",
       "  </tbody>\n",
       "</table>\n",
       "</div>"
      ],
      "text/plain": [
       "              index  kobe_reg_mean  kobe_po_mean  k_clutch_factor\n",
       "17              TOV       2.979198      2.940909        -1.285196\n",
       "18               PF       2.491085      3.000000        20.429466\n",
       "19              PTS      24.994799     25.636364         2.566791\n",
       "20       PLUS_MINUS       3.087667      2.536364       -17.855018\n",
       "21  VIDEO_AVAILABLE       0.133730      0.000000      -100.000000"
      ]
     },
     "execution_count": 33,
     "metadata": {},
     "output_type": "execute_result"
    }
   ],
   "source": [
    "kobe_clutch['k_clutch_factor'] = 100*(kobe_clutch['kobe_po_mean'] - kobe_clutch['kobe_reg_mean'])/kobe_clutch['kobe_reg_mean']\n",
    "kobe_clutch.tail()"
   ]
  },
  {
   "cell_type": "markdown",
   "metadata": {},
   "source": [
    "We apply the same to Jordan's data:"
   ]
  },
  {
   "cell_type": "code",
   "execution_count": 34,
   "metadata": {
    "collapsed": false
   },
   "outputs": [
    {
     "data": {
      "text/html": [
       "<div>\n",
       "<table border=\"1\" class=\"dataframe\">\n",
       "  <thead>\n",
       "    <tr style=\"text-align: right;\">\n",
       "      <th></th>\n",
       "      <th>index</th>\n",
       "      <th>jordan_reg_mean</th>\n",
       "      <th>jordan_po_mean</th>\n",
       "      <th>j_clutch_factor</th>\n",
       "    </tr>\n",
       "  </thead>\n",
       "  <tbody>\n",
       "    <tr>\n",
       "      <th>15</th>\n",
       "      <td>BLK</td>\n",
       "      <td>0.770522</td>\n",
       "      <td>0.882682</td>\n",
       "      <td>14.556251</td>\n",
       "    </tr>\n",
       "    <tr>\n",
       "      <th>16</th>\n",
       "      <td>TOV</td>\n",
       "      <td>2.456157</td>\n",
       "      <td>3.050279</td>\n",
       "      <td>24.189117</td>\n",
       "    </tr>\n",
       "    <tr>\n",
       "      <th>17</th>\n",
       "      <td>PF</td>\n",
       "      <td>2.364739</td>\n",
       "      <td>3.022346</td>\n",
       "      <td>27.808888</td>\n",
       "    </tr>\n",
       "    <tr>\n",
       "      <th>18</th>\n",
       "      <td>PTS</td>\n",
       "      <td>30.123134</td>\n",
       "      <td>33.446927</td>\n",
       "      <td>11.034021</td>\n",
       "    </tr>\n",
       "    <tr>\n",
       "      <th>19</th>\n",
       "      <td>VIDEO_AVAILABLE</td>\n",
       "      <td>0.000000</td>\n",
       "      <td>0.000000</td>\n",
       "      <td>NaN</td>\n",
       "    </tr>\n",
       "  </tbody>\n",
       "</table>\n",
       "</div>"
      ],
      "text/plain": [
       "              index  jordan_reg_mean  jordan_po_mean  j_clutch_factor\n",
       "15              BLK         0.770522        0.882682        14.556251\n",
       "16              TOV         2.456157        3.050279        24.189117\n",
       "17               PF         2.364739        3.022346        27.808888\n",
       "18              PTS        30.123134       33.446927        11.034021\n",
       "19  VIDEO_AVAILABLE         0.000000        0.000000              NaN"
      ]
     },
     "execution_count": 34,
     "metadata": {},
     "output_type": "execute_result"
    }
   ],
   "source": [
    "jordan_rmean_df = pd.DataFrame(agg_jordan_reg.fillna(0).mean())\n",
    "jordan_rmean_df.columns = ['jordan_reg_mean']\n",
    "jordan_rmean_df = jordan_rmean_df.reset_index()\n",
    "\n",
    "\n",
    "jordan_pmean_df = pd.DataFrame(agg_jordan_po.mean())\n",
    "jordan_pmean_df.columns = ['jordan_po_mean']\n",
    "jordan_pmean_df = jordan_pmean_df.reset_index()\n",
    "\n",
    "jordan_clutch = pd.merge(jordan_rmean_df, jordan_pmean_df, how = 'right')\n",
    "jordan_clutch['j_clutch_factor'] = 100*(jordan_clutch['jordan_po_mean'] - jordan_clutch['jordan_reg_mean'])/jordan_clutch['jordan_reg_mean']\n",
    "jordan_clutch.tail()"
   ]
  },
  {
   "cell_type": "markdown",
   "metadata": {},
   "source": [
    "We can then merge the two dataframes, and drop all the rows which are unrelated to the points scored, assists, and rebound categories. "
   ]
  },
  {
   "cell_type": "code",
   "execution_count": 35,
   "metadata": {
    "collapsed": false
   },
   "outputs": [
    {
     "data": {
      "text/plain": [
       "(20, 6)"
      ]
     },
     "execution_count": 35,
     "metadata": {},
     "output_type": "execute_result"
    }
   ],
   "source": [
    "clutch_factor = pd.merge(kobe_clutch, jordan_clutch)\n",
    "clutch_factor=clutch_factor.set_index('index')\n",
    "clutch_factor.shape"
   ]
  },
  {
   "cell_type": "code",
   "execution_count": 36,
   "metadata": {
    "collapsed": false
   },
   "outputs": [],
   "source": [
    "clutch_factor_t = clutch_factor.drop(clutch_factor.index[0:12])\n",
    "clutch_factor_tt = clutch_factor_t.drop(clutch_factor_t.index[3:6])\n",
    "clutch_factor_tt = clutch_factor_tt.drop(clutch_factor_tt.index[4])\n",
    "clutch_factor_f = clutch_factor_tt"
   ]
  },
  {
   "cell_type": "code",
   "execution_count": 37,
   "metadata": {
    "collapsed": false
   },
   "outputs": [
    {
     "data": {
      "text/html": [
       "<div>\n",
       "<table border=\"1\" class=\"dataframe\">\n",
       "  <thead>\n",
       "    <tr style=\"text-align: right;\">\n",
       "      <th></th>\n",
       "      <th>kobe_reg_mean</th>\n",
       "      <th>kobe_po_mean</th>\n",
       "      <th>k_clutch_factor</th>\n",
       "      <th>jordan_reg_mean</th>\n",
       "      <th>jordan_po_mean</th>\n",
       "      <th>j_clutch_factor</th>\n",
       "    </tr>\n",
       "    <tr>\n",
       "      <th>index</th>\n",
       "      <th></th>\n",
       "      <th></th>\n",
       "      <th></th>\n",
       "      <th></th>\n",
       "      <th></th>\n",
       "      <th></th>\n",
       "    </tr>\n",
       "  </thead>\n",
       "  <tbody>\n",
       "    <tr>\n",
       "      <th>REB</th>\n",
       "      <td>5.235513</td>\n",
       "      <td>5.086364</td>\n",
       "      <td>-2.848794</td>\n",
       "      <td>6.223881</td>\n",
       "      <td>6.435754</td>\n",
       "      <td>3.404204</td>\n",
       "    </tr>\n",
       "    <tr>\n",
       "      <th>AST</th>\n",
       "      <td>4.684993</td>\n",
       "      <td>4.727273</td>\n",
       "      <td>0.902459</td>\n",
       "      <td>5.254664</td>\n",
       "      <td>5.709497</td>\n",
       "      <td>8.655796</td>\n",
       "    </tr>\n",
       "    <tr>\n",
       "      <th>STL</th>\n",
       "      <td>1.444279</td>\n",
       "      <td>1.409091</td>\n",
       "      <td>-2.436401</td>\n",
       "      <td>2.162313</td>\n",
       "      <td>2.100559</td>\n",
       "      <td>-2.855958</td>\n",
       "    </tr>\n",
       "    <tr>\n",
       "      <th>PTS</th>\n",
       "      <td>24.994799</td>\n",
       "      <td>25.636364</td>\n",
       "      <td>2.566791</td>\n",
       "      <td>30.123134</td>\n",
       "      <td>33.446927</td>\n",
       "      <td>11.034021</td>\n",
       "    </tr>\n",
       "  </tbody>\n",
       "</table>\n",
       "</div>"
      ],
      "text/plain": [
       "       kobe_reg_mean  kobe_po_mean  k_clutch_factor  jordan_reg_mean  \\\n",
       "index                                                                  \n",
       "REB         5.235513      5.086364        -2.848794         6.223881   \n",
       "AST         4.684993      4.727273         0.902459         5.254664   \n",
       "STL         1.444279      1.409091        -2.436401         2.162313   \n",
       "PTS        24.994799     25.636364         2.566791        30.123134   \n",
       "\n",
       "       jordan_po_mean  j_clutch_factor  \n",
       "index                                   \n",
       "REB          6.435754         3.404204  \n",
       "AST          5.709497         8.655796  \n",
       "STL          2.100559        -2.855958  \n",
       "PTS         33.446927        11.034021  "
      ]
     },
     "execution_count": 37,
     "metadata": {},
     "output_type": "execute_result"
    }
   ],
   "source": [
    "clutch_factor_f"
   ]
  },
  {
   "cell_type": "markdown",
   "metadata": {},
   "source": [
    "To understand the differences in percent difference, we can create a graphical representation of 'clutch factor' through the following plot:"
   ]
  },
  {
   "cell_type": "code",
   "execution_count": 38,
   "metadata": {
    "collapsed": false
   },
   "outputs": [
    {
     "data": {
      "text/plain": [
       "<matplotlib.text.Text at 0x11bb63d68>"
      ]
     },
     "execution_count": 38,
     "metadata": {},
     "output_type": "execute_result"
    },
    {
     "data": {
      "image/png": "[encoded data removed]",
      "text/plain": [
       "<matplotlib.figure.Figure at 0x118444a90>"
      ]
     },
     "metadata": {},
     "output_type": "display_data"
    }
   ],
   "source": [
    "fig, ax = plt.subplots()\n",
    "clutch_factor_f['k_clutch_factor'].plot(kind = 'line',\n",
    "                                       color = 'blue',\n",
    "                                       legend = True)\n",
    "clutch_factor_f['j_clutch_factor'].plot(kind = 'line',\n",
    "                                     color = 'red',\n",
    "                                     legend = True)\n",
    "clutch_factor_f['k_clutch_factor'].plot(kind = 'bar',\n",
    "                                       color = 'blue',\n",
    "                                        alpha = .5,\n",
    "                                       legend = True)\n",
    "clutch_factor_f['j_clutch_factor'].plot(kind = 'bar',\n",
    "                                     color = 'red',\n",
    "                                        alpha = .5,\n",
    "                                     legend = True)\n",
    "ax.set_ylabel('Clutch Factor%')\n",
    "ax.set_xlabel('Statistic')\n",
    "ax.set_title('Kobe vs. Jordan: Clutch Comparison')"
   ]
  },
  {
   "cell_type": "markdown",
   "metadata": {},
   "source": [
    "The difference between the two players are more obvious in this figure. In every statistic other than steals, Michael Jordan's statistics improve during playoff time. Although Kobe does perform better in terms of assists and points scored in the post-season, he rebounds less and makes fewer steals. Jordan's improvements in assists and points scored are also to a much greater degree than to that of Kobe. \n",
    "\n",
    "We will try to extend the definition of 'clutch' to encapsulate efficiency improvements during playoff time as well. Both Kobe and Jordan are [Shooting Guards (SG)](https://en.wikipedia.org/wiki/Shooting_guard). Their role on a basketball team is heavily based on the points they contribute to the game. To understand their production efficiency, we can look at their points per minute metric. We will run a regression on the data between points scored and minutes played, and will compare the differences in the slopes of the regression between the regular and post season for the two players.\n",
    "\n",
    "\n",
    "We will be using NumPy's `.polyfit` method to apply a least-square regression on the data. We've noticed that some of Michael Jordan's data is lacking the minutes data, thus we will be dropping those data points for the case of this regression."
   ]
  },
  {
   "cell_type": "code",
   "execution_count": 56,
   "metadata": {
    "collapsed": false
   },
   "outputs": [
    {
     "data": {
      "text/plain": [
       "(0, 60)"
      ]
     },
     "execution_count": 56,
     "metadata": {},
     "output_type": "execute_result"
    },
    {
     "data": {
      "image/png": "[encoded data removed]",
      "text/plain": [
       "<matplotlib.figure.Figure at 0x11c4e8978>"
      ]
     },
     "metadata": {},
     "output_type": "display_data"
    }
   ],
   "source": [
    "fig, ax = plt.subplots(2)\n",
    "fig.suptitle('OLS Regression Points by Minute', horizontalalignment= 'right', verticalalignment = 'bottom', size = 12)\n",
    "agg_jordan_m = agg_jordan.drop(agg_jordan.index[agg_jordan['MIN']==0.0],axis = 0) #dropping missing or broken data\n",
    "\n",
    "\n",
    "k_coeff = np.polyfit(x = agg_kobe['MIN'], y = agg_kobe['PTS'], deg =1)\n",
    "k_ffit = np.poly1d(k_coeff)\n",
    "k_linreg = k_ffit(agg_kobe['MIN'])\n",
    "k_linreg = pd.DataFrame(k_linreg)\n",
    "k_linreg.columns = ['VAL']\n",
    "\n",
    "j_coeff = np.polyfit(x = agg_jordan_m['MIN'], y = agg_jordan_m['PTS'], deg =1)\n",
    "j_ffit = np.poly1d(j_coeff)\n",
    "j_linreg = j_ffit(agg_jordan_m['MIN'])\n",
    "j_linreg = pd.DataFrame(j_linreg)\n",
    "j_linreg.columns = ['VAL']\n",
    "\n",
    "k_linreg.plot(ax=ax[0],\n",
    "           kind = 'line',\n",
    "           x = agg_kobe['MIN'],\n",
    "           legend = False,\n",
    "           color = 'red')\n",
    "\n",
    "j_linreg.plot(ax=ax[1],\n",
    "           kind = 'line',\n",
    "           x = agg_jordan_m['MIN'],\n",
    "           legend = False,\n",
    "           color = 'red')\n",
    "\n",
    "agg_kobe.plot(ax=ax[0],\n",
    "              kind = 'scatter',\n",
    "              x = 'MIN',\n",
    "              y = 'PTS',\n",
    "              color = 'blue',\n",
    "              alpha = 0.5,\n",
    "              title = 'Kobe Bryant',\n",
    "              sharex = True,\n",
    "              ylim = (0,85))\n",
    "\n",
    "agg_jordan_m.plot(ax=ax[1],\n",
    "              kind = 'scatter',\n",
    "              x = 'MIN',\n",
    "              y = 'PTS',\n",
    "              color = 'blue',\n",
    "              alpha = 0.5,\n",
    "              title = 'Michael Jordan',\n",
    "              ylim = (0,85))\n",
    "\n",
    "ax[0].set_xlim(0,60)\n",
    "ax[1].set_xlim(0,60)"
   ]
  },
  {
   "cell_type": "markdown",
   "metadata": {},
   "source": [
    "According to the slope of the ordianry least-square regression, the career points per minute for Kobe and Jordan are as follows:"
   ]
  },
  {
   "cell_type": "code",
   "execution_count": 40,
   "metadata": {
    "collapsed": false
   },
   "outputs": [
    {
     "data": {
      "text/plain": [
       "0.78405926634808698"
      ]
     },
     "execution_count": 40,
     "metadata": {},
     "output_type": "execute_result"
    }
   ],
   "source": [
    "kobe_career_ppm = k_ffit[1]\n",
    "kobe_career_ppm"
   ]
  },
  {
   "cell_type": "code",
   "execution_count": 41,
   "metadata": {
    "collapsed": false
   },
   "outputs": [
    {
     "data": {
      "text/plain": [
       "0.81381823309935597"
      ]
     },
     "execution_count": 41,
     "metadata": {},
     "output_type": "execute_result"
    }
   ],
   "source": [
    "jordan_career_ppm = j_ffit[1]\n",
    "jordan_career_ppm"
   ]
  },
  {
   "cell_type": "markdown",
   "metadata": {
    "collapsed": false
   },
   "source": [
    "Overall, Jordan is more efficient than Kobe in terms of points production by minute by looking at the slope of the OLS regression. \n",
    "\n",
    "Now we may separate their statistics from Regular Season and Playoff Season to see the difference in the points per minute metric, or their production efficiency 'clutch', when it comes to the postseason. \n",
    "\n",
    "We generate separate OLS regression for each section of the data:"
   ]
  },
  {
   "cell_type": "code",
   "execution_count": 42,
   "metadata": {
    "collapsed": false,
    "scrolled": true
   },
   "outputs": [],
   "source": [
    "agg_jordan_reg1 = agg_jordan_reg.drop(agg_jordan_reg.index[agg_jordan_reg['MIN']==0.0],axis = 0) \n",
    "\n",
    "k_reg_coeff = np.polyfit(x = agg_kobe_reg['MIN'], y = agg_kobe_reg['PTS'], deg =1)\n",
    "k_reg_ffit = np.poly1d(k_reg_coeff)\n",
    "k_reg_linreg = k_ffit(agg_kobe_reg['MIN'])\n",
    "k_reg_linreg = pd.DataFrame(k_reg_linreg)\n",
    "k_reg_linreg.columns = ['VAL']\n",
    "\n",
    "k_po_coeff = np.polyfit(x = agg_kobe_po['MIN'], y = agg_kobe_po['PTS'], deg =1)\n",
    "k_po_ffit = np.poly1d(k_po_coeff)\n",
    "k_po_linreg = k_ffit(agg_kobe_po['MIN'])\n",
    "k_po_linreg = pd.DataFrame(k_po_linreg)\n",
    "k_po_linreg.columns = ['VAL']\n",
    "\n",
    "j_reg_coeff = np.polyfit(x = agg_jordan_reg1['MIN'], y = agg_jordan_reg1['PTS'], deg =1)\n",
    "j_reg_ffit = np.poly1d(j_reg_coeff)\n",
    "j_reg_linreg = j_reg_ffit(agg_jordan_reg1['MIN'])\n",
    "j_reg_linreg = pd.DataFrame(j_reg_linreg)\n",
    "j_reg_linreg.columns = ['VAL']\n",
    "\n",
    "j_po_coeff = np.polyfit(x = agg_jordan_po['MIN'], y = agg_jordan_po['PTS'], deg =1)\n",
    "j_po_ffit = np.poly1d(j_po_coeff)\n",
    "j_po_linreg = j_po_ffit(agg_jordan_po['MIN'])\n",
    "j_po_linreg = pd.DataFrame(j_po_linreg)\n",
    "j_po_linreg.columns = ['VAL']"
   ]
  },
  {
   "cell_type": "markdown",
   "metadata": {},
   "source": [
    "Using the regressions and career statistics data we had previously compiled, we can plot the data into a 2 x 2 subplot: "
   ]
  },
  {
   "cell_type": "code",
   "execution_count": 43,
   "metadata": {
    "collapsed": false
   },
   "outputs": [
    {
     "data": {
      "text/plain": [
       "(0, 60)"
      ]
     },
     "execution_count": 43,
     "metadata": {},
     "output_type": "execute_result"
    },
    {
     "data": {
      "image/png": "[encoded data removed]",
      "text/plain": [
       "<matplotlib.figure.Figure at 0x11bef4128>"
      ]
     },
     "metadata": {},
     "output_type": "display_data"
    }
   ],
   "source": [
    "fig, ax = plt.subplots(2,2)\n",
    "\n",
    "agg_jordan_reg1.plot(ax=ax[0,1],\n",
    "              kind = 'scatter',\n",
    "              x = 'MIN',\n",
    "              y = 'PTS',\n",
    "              color = 'blue',\n",
    "              alpha = 0.5,\n",
    "              title = 'MJ Regular',\n",
    "              ylim = (0,85),\n",
    "              sharex = True,\n",
    "              sharey = True)\n",
    "\n",
    "j_reg_linreg.plot(ax=ax[0,1],\n",
    "           kind = 'line',\n",
    "           x = agg_jordan_reg1['MIN'],\n",
    "           legend = False,\n",
    "           color = 'red')\n",
    "\n",
    "agg_jordan_po.plot(ax=ax[1,1],\n",
    "              kind = 'scatter',\n",
    "              x = 'MIN',\n",
    "              y = 'PTS',\n",
    "              color = 'blue',\n",
    "              alpha = 0.5,\n",
    "              title = 'MJ Post',\n",
    "              ylim = (0,85))\n",
    "\n",
    "j_po_linreg.plot(ax=ax[1,1],\n",
    "           kind = 'line',\n",
    "           x = agg_jordan_po['MIN'],\n",
    "           legend = False,\n",
    "           color = 'red')\n",
    "\n",
    "agg_kobe_reg.plot(ax=ax[0,0],\n",
    "              kind = 'scatter',\n",
    "              x = 'MIN',\n",
    "              y = 'PTS',\n",
    "              color = 'blue',\n",
    "              alpha = 0.5,\n",
    "              title = 'Kobe Regular',\n",
    "              ylim = (0,85))\n",
    "\n",
    "k_reg_linreg.plot(ax=ax[0,0],\n",
    "           kind = 'line',\n",
    "           x = agg_kobe_reg['MIN'],\n",
    "           legend = False,\n",
    "           color = 'red')\n",
    "\n",
    "\n",
    "agg_kobe_po.plot(ax=ax[1,0],\n",
    "              kind = 'scatter',\n",
    "              x = 'MIN',\n",
    "              y = 'PTS',\n",
    "              color = 'blue',\n",
    "              alpha = 0.5,\n",
    "              title = 'Kobe Post',\n",
    "              ylim = (0,85))\n",
    "\n",
    "k_po_linreg.plot(ax=ax[1,0],\n",
    "           kind = 'line',\n",
    "           x = agg_kobe_po['MIN'],\n",
    "           legend = False,\n",
    "           color = 'red')\n",
    "\n",
    "ax[0,0].set_xlim(0,60)\n",
    "ax[0,1].set_xlim(0,60)\n",
    "ax[1,0].set_xlim(0,60)\n",
    "ax[1,1].set_xlim(0,60)"
   ]
  },
  {
   "cell_type": "markdown",
   "metadata": {},
   "source": [
    "Looking at the scatter data, Jordan's Post season production efficiency stats seem to have a steeper slope than that of Kobe's, with their regular season efficiencies looking relatively similar. The efficiency 'clutch' improvement is calculated as follows: "
   ]
  },
  {
   "cell_type": "code",
   "execution_count": 44,
   "metadata": {
    "collapsed": false
   },
   "outputs": [
    {
     "name": "stdout",
     "output_type": "stream",
     "text": [
      "Kobe: 0.811275214269 points per minute during the Regular Season\n",
      "Kobe: 0.693349959295 points per minute during the Post Season\n",
      "Production Efficiency Clutch: -14.5357891995 %\n"
     ]
    }
   ],
   "source": [
    "k_reg_ppm = k_reg_ffit[1]\n",
    "k_po_ppm = k_po_ffit[1]\n",
    "print('Kobe:',k_reg_ppm, 'points per minute during the Regular Season')\n",
    "print('Kobe:',k_po_ppm, 'points per minute during the Post Season')\n",
    "print('Production Efficiency Clutch:', ((k_po_ppm-k_reg_ppm)/k_reg_ppm)*100,'%')"
   ]
  },
  {
   "cell_type": "code",
   "execution_count": 45,
   "metadata": {
    "collapsed": false
   },
   "outputs": [
    {
     "name": "stdout",
     "output_type": "stream",
     "text": [
      "Jordan: 0.805195007487 points per minute during the Regular Season\n",
      "Jordan: 0.838323050257 points per minute during the Post Season\n",
      "Production Efficiency Clutch: 4.11428814903 %\n"
     ]
    }
   ],
   "source": [
    "j_reg_ppm = j_reg_ffit[1]\n",
    "j_po_ppm = j_po_ffit[1]\n",
    "print('Jordan:',j_reg_ppm, 'points per minute during the Regular Season')\n",
    "print('Jordan:',j_po_ppm, 'points per minute during the Post Season')\n",
    "print('Production Efficiency Clutch:', ((j_po_ppm-j_reg_ppm)/j_reg_ppm)*100,'%')"
   ]
  },
  {
   "cell_type": "markdown",
   "metadata": {},
   "source": [
    "Looking at clutch in terms of production efficiency, Jordan does better than Kobe, as Kobe actually scores over 10% fewer points per minute in the post season than in the regular season. This indicates that our previous analysis of Kobe having more points scored in the playoffs may simply be a product of him having more minutes on the court during his career postseasons.  "
   ]
  },
  {
   "cell_type": "markdown",
   "metadata": {
    "collapsed": true
   },
   "source": [
    "## Conclusion: Jordan is More 'Clutch'\n",
    "\n",
    "Looking at the results from the data we pulled from Kobe and Jordan's career stats, we see that Jordan does hold the edge in terms of overall improvement during the playoffs over the regular season, or as what we defined as 'clutch'. Although there were not an enormous difference in their raw career stats in quantity and consistency, the disparity between regular season and the post season is observable for both key stats such as points scored, assists, rebounds, and steals, as well as production efficiency in terms of points per minute. \n",
    "\n",
    "This difference in 'clutch' provides some quantitative reasoning behind the difference in [awards](http://www.landofbasketball.com/player_comparison/kobe_bryant_vs_michael_jordan.htm) and [accolades](http://bleacherreport.com/articles/606284-why-michael-jordan-will-always-be-better-than-kobe-bryant) Kobe and Jordan had garnered respectively in their careers. Both are obviously great players, but this may be part of the reason why many diehard fans as well as mainstream sports analysts such as ESPN consider Jordan to be the [G.O.A.T.](http://www.espn.com/nba/story/_/page/nbarank1/all-nbarank-1) (Greatest of All Time) and Kobe just a [legend in passing](http://www.espn.com/nba/story/_/page/nbarank160205/all-nbarank-11-15) (check No.12). \n",
    "\n",
    "Potential errors in this data report could be issues with multicollinearity on the regression for the production per minute OLS regression as well as the accounting for minor adjustments in averages due to Kobe playing 20 seasons in the NBA compared to Jordan's 15 (as he took a year break to pursue professional baseball, as well as a hiatus before joining the Washington Wizards). \n",
    "\n",
    "This is the end of my project. I hope you had as much fun reading it as I had writing it. "
   ]
  }
 ],
 "metadata": {
  "anaconda-cloud": {},
  "kernelspec": {
   "display_name": "Python [default]",
   "language": "python",
   "name": "python3"
  },
  "language_info": {
   "codemirror_mode": {
    "name": "ipython",
    "version": 3
   },
   "file_extension": ".py",
   "mimetype": "text/x-python",
   "name": "python",
   "nbconvert_exporter": "python",
   "pygments_lexer": "ipython3",
   "version": "3.5.2"
  }
 },
 "nbformat": 4,
 "nbformat_minor": 1
}
